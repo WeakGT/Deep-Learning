{
 "cells": [
  {
   "cell_type": "markdown",
   "metadata": {},
   "source": [
    "# Lab04: Perceptron & Adaline\n",
    "----\n",
    "111062117 黃祥陞\n",
    "\n",
    "Implement the Adaline with SGD which can set different batch_size ($M$) as parameter. Then, use the Iris dataset to fit your model with 3 different M(including $M=1$) and fixed learning rate $\\eta$ and print out the accuracy of each model. Last, plot the cost against the number of epochs using different $M$ in one figure.\n",
    "\n",
    "## 1. Split training and testing data (test_size = 20% of the whole dataset)"
   ]
  },
  {
   "cell_type": "code",
   "execution_count": 1,
   "metadata": {},
   "outputs": [
    {
     "data": {
      "text/html": [
       "<div>\n",
       "<style scoped>\n",
       "    .dataframe tbody tr th:only-of-type {\n",
       "        vertical-align: middle;\n",
       "    }\n",
       "\n",
       "    .dataframe tbody tr th {\n",
       "        vertical-align: top;\n",
       "    }\n",
       "\n",
       "    .dataframe thead th {\n",
       "        text-align: right;\n",
       "    }\n",
       "</style>\n",
       "<table border=\"1\" class=\"dataframe\">\n",
       "  <thead>\n",
       "    <tr style=\"text-align: right;\">\n",
       "      <th></th>\n",
       "      <th>Sepal length</th>\n",
       "      <th>Sepal width</th>\n",
       "      <th>Petal length</th>\n",
       "      <th>Petal width</th>\n",
       "      <th>Class label</th>\n",
       "    </tr>\n",
       "  </thead>\n",
       "  <tbody>\n",
       "    <tr>\n",
       "      <th>0</th>\n",
       "      <td>5.1</td>\n",
       "      <td>3.5</td>\n",
       "      <td>1.4</td>\n",
       "      <td>0.2</td>\n",
       "      <td>Iris-setosa</td>\n",
       "    </tr>\n",
       "    <tr>\n",
       "      <th>1</th>\n",
       "      <td>4.9</td>\n",
       "      <td>3.0</td>\n",
       "      <td>1.4</td>\n",
       "      <td>0.2</td>\n",
       "      <td>Iris-setosa</td>\n",
       "    </tr>\n",
       "    <tr>\n",
       "      <th>2</th>\n",
       "      <td>4.7</td>\n",
       "      <td>3.2</td>\n",
       "      <td>1.3</td>\n",
       "      <td>0.2</td>\n",
       "      <td>Iris-setosa</td>\n",
       "    </tr>\n",
       "    <tr>\n",
       "      <th>3</th>\n",
       "      <td>4.6</td>\n",
       "      <td>3.1</td>\n",
       "      <td>1.5</td>\n",
       "      <td>0.2</td>\n",
       "      <td>Iris-setosa</td>\n",
       "    </tr>\n",
       "    <tr>\n",
       "      <th>4</th>\n",
       "      <td>5.0</td>\n",
       "      <td>3.6</td>\n",
       "      <td>1.4</td>\n",
       "      <td>0.2</td>\n",
       "      <td>Iris-setosa</td>\n",
       "    </tr>\n",
       "  </tbody>\n",
       "</table>\n",
       "</div>"
      ],
      "text/plain": [
       "   Sepal length  Sepal width  Petal length  Petal width  Class label\n",
       "0           5.1          3.5           1.4          0.2  Iris-setosa\n",
       "1           4.9          3.0           1.4          0.2  Iris-setosa\n",
       "2           4.7          3.2           1.3          0.2  Iris-setosa\n",
       "3           4.6          3.1           1.5          0.2  Iris-setosa\n",
       "4           5.0          3.6           1.4          0.2  Iris-setosa"
      ]
     },
     "metadata": {},
     "output_type": "display_data"
    },
    {
     "name": "stdout",
     "output_type": "stream",
     "text": [
      "# Training data points: 80\n",
      "# Testing data points: 20\n",
      "Class labels: [-1  1]\n"
     ]
    }
   ],
   "source": [
    "import pandas as pd\n",
    "import numpy as np\n",
    "from sklearn.model_selection import train_test_split\n",
    "from sklearn.preprocessing import StandardScaler\n",
    "from IPython.display import display\n",
    "\n",
    "df = pd.read_csv('https://archive.ics.uci.edu/ml/'\n",
    "        'machine-learning-databases/iris/iris.data', header=None)\n",
    "df.columns = ['Sepal length', 'Sepal width', 'Petal length', 'Petal width', 'Class label']\n",
    "display(df.head())\n",
    "\n",
    "X = df[['Petal length', 'Petal width']].values\n",
    "y = pd.factorize(df['Class label'])[0]\n",
    "\n",
    "# discard exmaples in the first class\n",
    "X = X[50:150]\n",
    "y = np.where(y[50:150] == 2, -1, y[50:150])\n",
    "\n",
    "X_train, X_test, y_train, y_test = train_test_split(X, y, test_size=0.2, random_state=1)\n",
    "\n",
    "sc = StandardScaler()\n",
    "sc.fit(X_train)\n",
    "X_train_std = sc.transform(X_train)\n",
    "X_test_std = sc.transform(X_test)\n",
    "\n",
    "print('# Training data points: %d' % X_train.shape[0])\n",
    "print('# Testing data points: %d' % X_test.shape[0])\n",
    "print('Class labels: %s' % np.unique(y))"
   ]
  },
  {
   "cell_type": "markdown",
   "metadata": {},
   "source": [
    "## 2. Handcrafted Adaline classifier with M as parameter"
   ]
  },
  {
   "cell_type": "code",
   "execution_count": 2,
   "metadata": {},
   "outputs": [],
   "source": [
    "class AdalineSGD:\n",
    "    def __init__(self, eta=0.01, n_iter=10, M=1, random_state=None):\n",
    "        self.eta = eta\n",
    "        self.n_iter = n_iter\n",
    "        self.M = M # mini-batch size\n",
    "        self.random_state = random_state\n",
    "\n",
    "    def fit(self, X, y):\n",
    "        self._initialize_weights(X.shape[1])\n",
    "        self.cost_ = []\n",
    "\n",
    "        for i in range(self.n_iter):\n",
    "            cost = 0\n",
    "            for Xb, yb in self._shuffle(X, y):\n",
    "                cost += self._update_weights(Xb, yb)\n",
    "            self.cost_.append(cost)\n",
    "        return self\n",
    "\n",
    "    def _shuffle(self, X, y):\n",
    "        r = np.random.RandomState(self.random_state)\n",
    "        indices = np.arange(X.shape[0])\n",
    "        r.shuffle(indices)\n",
    "        # yield mini-batch indices\n",
    "        for start_idx in range(0, indices.shape[0] - self.M + 1, self.M):\n",
    "            excerpt = indices[start_idx:start_idx + self.M]\n",
    "            yield X[excerpt], y[excerpt]\n",
    "        # if the number of samples is not divisible by M\n",
    "        if indices.shape[0] % self.M != 0:\n",
    "            excerpt = indices[-(indices.shape[0] % self.M):]\n",
    "            yield X[excerpt], y[excerpt]\n",
    "\n",
    "    def _initialize_weights(self, m):\n",
    "        self.w_ = np.zeros(1 + m)\n",
    "\n",
    "    def _update_weights(self, Xb, yb):\n",
    "        output = self.activation(Xb)\n",
    "        errors = (yb - output)\n",
    "        batch_size = Xb.shape[0]\n",
    "        self.w_[1:] += self.eta * Xb.T.dot(errors) / batch_size\n",
    "        self.w_[0] += self.eta * errors.sum() / batch_size\n",
    "        cost = 0.5 * (errors**2).sum()\n",
    "        return cost\n",
    "\n",
    "    def net_input(self, X):\n",
    "        return np.dot(X, self.w_[1:]) + self.w_[0]\n",
    "\n",
    "    def activation(self, X):\n",
    "        return self.net_input(X)\n",
    "\n",
    "    def predict(self, X):\n",
    "        return np.where(self.activation(X) >= 0.0, 1, -1)"
   ]
  },
  {
   "cell_type": "markdown",
   "metadata": {},
   "source": [
    "## 3. Fit model with 3 different M and fixed η. (including M=1)"
   ]
  },
  {
   "cell_type": "code",
   "execution_count": 3,
   "metadata": {},
   "outputs": [
    {
     "name": "stdout",
     "output_type": "stream",
     "text": [
      "Batch size: 1, Cost: [20.92543207421624, 11.589535003859584, 10.996341365362921, 10.90383320637934, 10.859697099014896, 10.829836839122537, 10.808190917854866, 10.792211527012883, 10.78034564907102, 10.771516687232259, 10.76494342330103, 10.760049441101081, 10.75640670819421, 10.753696544434455, 10.751681416432035, 10.750184189904381, 10.74907275080737, 10.748248565340933, 10.747638154883425, 10.74718673727966, 10.746853481717473, 10.746607966911668, 10.746427537222694, 10.746295329070017, 10.74619879779776]\n",
      "Batch size: 4, Cost: [32.01310978579204, 21.05578196696714, 15.786259532637523, 13.243446876768298, 12.009214978229961, 11.404047399768707, 11.102099341736482, 10.946945206022178, 10.863364796086852, 10.81509492967422, 10.78458522983771, 10.763290675321928, 10.747011847906169, 10.733654788156551, 10.722151710398316, 10.711939371860188, 10.70270581708244, 10.694266618321418, 10.686503834276673, 10.679335506879076, 10.672700139193084, 10.666548599804122, 10.66083976175979, 10.655538055840962, 10.650612029831475]\n",
      "Batch size: 8, Cost: [35.764321934283984, 28.129041387077642, 22.8366520293626, 19.16667907696236, 16.62034013934894, 14.852311102398158, 13.623496678773268, 12.768339180535866, 12.172189905460836, 11.755645426196322, 11.463704744649494, 11.258263334591673, 11.112916941576216, 11.009364206630702, 10.93491603152945, 10.880771079273211, 10.840821646808877, 10.810826714718232, 10.787839207170705, 10.769809262213483, 10.755309377452457, 10.743343953890212, 10.73321729138795, 10.72444207115878, 10.716675886257665]\n"
     ]
    }
   ],
   "source": [
    "# Define the learning rate and number of iterations\n",
    "eta = 0.01\n",
    "n_iter = 25\n",
    "\n",
    "# Define the different batch sizes\n",
    "batch_sizes = [1, 4, 8]\n",
    "\n",
    "# Fit the model with different batch sizes\n",
    "adaline_models = {}\n",
    "for M in batch_sizes:\n",
    "    adaline = AdalineSGD(eta=eta, n_iter=n_iter, M=M, random_state=1)\n",
    "    adaline.fit(X_train_std, y_train)\n",
    "    adaline_models[M] = adaline\n",
    "    print(f'Batch size: {M}, Cost: {adaline.cost_}')"
   ]
  },
  {
   "cell_type": "markdown",
   "metadata": {},
   "source": [
    "## 4. Print the accuracy of each model"
   ]
  },
  {
   "cell_type": "code",
   "execution_count": 4,
   "metadata": {},
   "outputs": [
    {
     "name": "stdout",
     "output_type": "stream",
     "text": [
      "Batch size: 1, Accuracy: 0.85\n",
      "Batch size: 4, Accuracy: 0.85\n",
      "Batch size: 8, Accuracy: 0.85\n"
     ]
    }
   ],
   "source": [
    "from sklearn.metrics import accuracy_score\n",
    "\n",
    "for M, model in adaline_models.items():\n",
    "    y_pred = model.predict(X_test_std)\n",
    "    accuracy = accuracy_score(y_test, y_pred)\n",
    "    print(f'Batch size: {M}, Accuracy: {accuracy:.2f}')"
   ]
  },
  {
   "cell_type": "markdown",
   "metadata": {},
   "source": [
    "## 5. Plot the cost against the number of epochs using different M in one figure"
   ]
  },
  {
   "cell_type": "code",
   "execution_count": 5,
   "metadata": {},
   "outputs": [
    {
     "data": {
      "image/png": "[encoded data removed]",
      "text/plain": [
       "<Figure size 720x432 with 1 Axes>"
      ]
     },
     "metadata": {
      "needs_background": "light"
     },
     "output_type": "display_data"
    }
   ],
   "source": [
    "import matplotlib.pyplot as plt\n",
    "\n",
    "plt.figure(figsize=(10, 6))\n",
    "for M, model in adaline_models.items():\n",
    "    plt.plot(range(1, len(model.cost_) + 1), model.cost_, marker='o', label=f'Batch size: {M}')\n",
    "plt.xlabel('Epochs')\n",
    "plt.ylabel('Average Cost')\n",
    "plt.legend(loc='upper right')\n",
    "plt.title('Adaline - Cost vs. Epochs for different batch sizes')\n",
    "plt.grid(True)\n",
    "plt.savefig('Lab04-1_111062117.png')\n",
    "plt.show()"
   ]
  }
 ],
 "metadata": {
  "kernelspec": {
   "display_name": "tensorflow",
   "language": "python",
   "name": "python3"
  },
  "language_info": {
   "codemirror_mode": {
    "name": "ipython",
    "version": 3
   },
   "file_extension": ".py",
   "mimetype": "text/x-python",
   "name": "python",
   "nbconvert_exporter": "python",
   "pygments_lexer": "ipython3",
   "version": "3.8.20"
  }
 },
 "nbformat": 4,
 "nbformat_minor": 2
}
