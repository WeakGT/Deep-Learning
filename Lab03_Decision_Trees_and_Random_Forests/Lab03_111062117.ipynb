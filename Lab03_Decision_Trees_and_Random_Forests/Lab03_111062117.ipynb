{
 "cells": [
  {
   "cell_type": "markdown",
   "metadata": {},
   "source": [
    "# Lab03: Decision Trees & Random Forests\n",
    "---\n",
    "111062117 黃祥陞\n",
    "\n",
    "We try to make predition from another dataset breast cancer wisconsin. But there are too many features in this dataset. Please try to improve accuracy per feature.\n",
    "\n",
    "$$\\frac{\\text{Accuracy}}{\\text{\\#Features}}$$\n",
    "\n",
    "HINT:\n",
    "- You can improve the ratio by picking out several important features.\n",
    "- The ratio can be improved from 0.03 up to 0.44.\n",
    "\n",
    "## 0. Data Preparation"
   ]
  },
  {
   "cell_type": "code",
   "execution_count": 3,
   "metadata": {},
   "outputs": [],
   "source": [
    "from sklearn.tree import DecisionTreeClassifier\n",
    "from sklearn.model_selection import train_test_split\n",
    "from sklearn.datasets import load_breast_cancer\n",
    "import pandas as pd\n",
    "from sklearn.metrics import accuracy_score\n",
    "from sklearn.ensemble import RandomForestClassifier"
   ]
  },
  {
   "cell_type": "code",
   "execution_count": 4,
   "metadata": {},
   "outputs": [
    {
     "name": "stdout",
     "output_type": "stream",
     "text": [
      "Accuracy: 0.98\n",
      "Accuracy per feature: 0.03\n"
     ]
    }
   ],
   "source": [
    "# load the breast_cancer dataset\n",
    "init_data = load_breast_cancer()\n",
    "(X, y) = load_breast_cancer(return_X_y=True)\n",
    "# X = pd.DataFrame(data=X, columns=init_data['feature_names'])\n",
    "# y = pd.DataFrame(data=y, columns=['label'])\n",
    "\n",
    "# split X into training and testing sets\n",
    "X_train, X_test, y_train, y_test = train_test_split(X, y, test_size=0.3, random_state=0)\n",
    "\n",
    "# Train a RandomForestClassifier as model \n",
    "forest = RandomForestClassifier(criterion='entropy',\n",
    "                                n_estimators=200, \n",
    "                                random_state=1,\n",
    "                                n_jobs=2)\n",
    "forest.fit(X_train, y_train)\n",
    "\n",
    "y_pred = forest.predict(X_test)\n",
    "print('Accuracy: %.2f' % accuracy_score(y_test, y_pred))\n",
    "print('Accuracy per feature: %.2f' % (accuracy_score(y_test, y_pred)/X.shape[1]))"
   ]
  },
  {
   "cell_type": "markdown",
   "metadata": {},
   "source": [
    "## 1. Feature Reduction Using PCA"
   ]
  },
  {
   "cell_type": "code",
   "execution_count": 11,
   "metadata": {},
   "outputs": [
    {
     "name": "stdout",
     "output_type": "stream",
     "text": [
      "Accuracy with PCA: 0.95\n",
      "Accuracy per feature with PCA: 0.47\n"
     ]
    }
   ],
   "source": [
    "from sklearn.decomposition import PCA\n",
    "\n",
    "# Apply PCA\n",
    "pca = PCA(n_components=2)  # Reduce to 2 dimensions for visualization\n",
    "X_pca = pca.fit_transform(X)\n",
    "\n",
    "# Split the transformed data into training and testing sets\n",
    "X_train_pca, X_test_pca, y_train_pca, y_test_pca = train_test_split(X_pca, y, test_size=0.3, random_state=0)\n",
    "\n",
    "# Train a RandomForestClassifier on the PCA-transformed data\n",
    "forest_pca = RandomForestClassifier(criterion='entropy',\n",
    "                                    n_estimators=200, \n",
    "                                    random_state=1,\n",
    "                                    n_jobs=2)\n",
    "forest_pca.fit(X_train_pca, y_train_pca)\n",
    "\n",
    "y_pred_pca = forest_pca.predict(X_test_pca)\n",
    "print('Accuracy with PCA: %.2f' % accuracy_score(y_test_pca, y_pred_pca))\n",
    "print('Accuracy per feature with PCA: %.2f' % (accuracy_score(y_test_pca, y_pred_pca)/X_pca.shape[1]))"
   ]
  },
  {
   "cell_type": "markdown",
   "metadata": {},
   "source": [
    "## 2. Feature Redution Using Feature Importance"
   ]
  },
  {
   "cell_type": "code",
   "execution_count": 13,
   "metadata": {},
   "outputs": [
    {
     "name": "stdout",
     "output_type": "stream",
     "text": [
      "Accuracy with selected features: 0.89\n",
      "Accuracy per feature with selected features: 0.44\n"
     ]
    }
   ],
   "source": [
    "import numpy as np\n",
    "\n",
    "# Get feature importances from the trained RandomForestClassifier\n",
    "importances = forest.feature_importances_\n",
    "\n",
    "# Get indices of the two most important features\n",
    "indices = np.argsort(importances)[-2:]\n",
    "\n",
    "# Select the two most important features from the dataset\n",
    "X_selected = X[:, indices]\n",
    "\n",
    "# Split the selected features into training and testing sets\n",
    "X_train_selected, X_test_selected, y_train_selected, y_test_selected = train_test_split(X_selected, y, test_size=0.3, random_state=0)\n",
    "\n",
    "# Train a RandomForestClassifier on the selected features\n",
    "forest_selected = RandomForestClassifier(criterion='entropy',\n",
    "                                         n_estimators=200, \n",
    "                                         random_state=1,\n",
    "                                         n_jobs=2)\n",
    "forest_selected.fit(X_train_selected, y_train_selected)\n",
    "\n",
    "y_pred_selected = forest_selected.predict(X_test_selected)\n",
    "print('Accuracy with selected features: %.2f' % accuracy_score(y_test_selected, y_pred_selected))\n",
    "print('Accuracy per feature with selected features: %.2f' % (accuracy_score(y_test_selected, y_pred_selected)/X_selected.shape[1]))"
   ]
  }
 ],
 "metadata": {
  "kernelspec": {
   "display_name": "tensorflow",
   "language": "python",
   "name": "python3"
  },
  "language_info": {
   "codemirror_mode": {
    "name": "ipython",
    "version": 3
   },
   "file_extension": ".py",
   "mimetype": "text/x-python",
   "name": "python",
   "nbconvert_exporter": "python",
   "pygments_lexer": "ipython3",
   "version": "3.8.20"
  }
 },
 "nbformat": 4,
 "nbformat_minor": 2
}
