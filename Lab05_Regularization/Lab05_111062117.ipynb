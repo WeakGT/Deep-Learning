{
 "cells": [
  {
   "cell_type": "markdown",
   "metadata": {},
   "source": [
    "# Lab05: Regularization Assignment\n",
    "---\n",
    "111062117 黃祥陞\n",
    "\n",
    "In this assignment, we would like to predict the success of shots made by basketball players in the NBA."
   ]
  },
  {
   "cell_type": "code",
   "execution_count": 125,
   "metadata": {},
   "outputs": [
    {
     "data": {
      "text/plain": [
       "('./data/X_test.csv', <http.client.HTTPMessage at 0x32dd0eb80>)"
      ]
     },
     "execution_count": 125,
     "metadata": {},
     "output_type": "execute_result"
    }
   ],
   "source": [
    "import pandas as pd\n",
    "import numpy as np\n",
    "import urllib.request\n",
    "import os\n",
    "\n",
    "if not os.path.exists(\"data/\") : os.mkdir(\"data/\")\n",
    "\n",
    "urllib.request.urlretrieve(\"https://nthu-datalab.github.io/ml/labs/05_Regularization/data/X_train.csv\", \"./data/X_train.csv\")\n",
    "urllib.request.urlretrieve(\"https://nthu-datalab.github.io/ml/labs/05_Regularization/data/y_train.csv\", \"./data/y_train.csv\")\n",
    "urllib.request.urlretrieve(\"https://nthu-datalab.github.io/ml/labs/05_Regularization/data/X_test.csv\", \"./data/X_test.csv\")"
   ]
  },
  {
   "cell_type": "code",
   "execution_count": 126,
   "metadata": {},
   "outputs": [],
   "source": [
    "X_train = pd.read_csv('./data/X_train.csv')\n",
    "y_train = pd.read_csv('./data/y_train.csv')\n",
    "X_test = pd.read_csv('./data/X_test.csv')"
   ]
  },
  {
   "cell_type": "markdown",
   "metadata": {},
   "source": [
    "## 1. Use all features to train any linear model in scikit-learn and try different hyperparameters.\n",
    "I used the RidgeClassifier model. I split the data into training and validation sets, and then experimented with different polynomial degrees to control the model’s complexity, as well as various alpha values to adjust regularization. The best model was selected based on the highest validation accuracy."
   ]
  },
  {
   "cell_type": "code",
   "execution_count": 127,
   "metadata": {},
   "outputs": [
    {
     "name": "stdout",
     "output_type": "stream",
     "text": [
      "              model  degree  alpha  acc_train  acc_valid\n",
      "0   RidgeClassifier       1      1   0.607963   0.609656\n",
      "1   RidgeClassifier       1     10   0.608013   0.609656\n",
      "2   RidgeClassifier       1    100   0.607797   0.609461\n",
      "3   RidgeClassifier       1   1000   0.608163   0.609656\n",
      "4   RidgeClassifier       1  10000   0.609429   0.609500\n",
      "5   RidgeClassifier       2      1   0.617693   0.614942\n",
      "6   RidgeClassifier       2     10   0.617776   0.614903\n",
      "7   RidgeClassifier       2    100   0.617826   0.614281\n",
      "8   RidgeClassifier       2   1000   0.617343   0.613504\n",
      "9   RidgeClassifier       2  10000   0.616043   0.611560\n",
      "10  RidgeClassifier       3      1   0.618875   0.613698\n",
      "11  RidgeClassifier       3     10   0.618859   0.613854\n",
      "12  RidgeClassifier       3    100   0.618925   0.613893\n",
      "13  RidgeClassifier       3   1000   0.619175   0.614126\n",
      "14  RidgeClassifier       3  10000   0.618809   0.612493\n",
      "15  RidgeClassifier       4      1   0.621291   0.610666\n",
      "16  RidgeClassifier       4     10   0.621458   0.610977\n",
      "17  RidgeClassifier       4    100   0.621724   0.611172\n",
      "18  RidgeClassifier       4   1000   0.621524   0.611210\n",
      "19  RidgeClassifier       4  10000   0.620908   0.611755\n",
      "20  RidgeClassifier       5      1   0.627855   0.608334\n",
      "21  RidgeClassifier       5     10   0.627755   0.608451\n",
      "22  RidgeClassifier       5    100   0.626406   0.609306\n",
      "23  RidgeClassifier       5   1000   0.625673   0.609772\n",
      "24  RidgeClassifier       5  10000   0.624473   0.609967\n"
     ]
    }
   ],
   "source": [
    "from sklearn.linear_model import RidgeClassifier\n",
    "from sklearn.preprocessing import StandardScaler\n",
    "from sklearn.model_selection import train_test_split\n",
    "from sklearn.metrics import accuracy_score\n",
    "from sklearn.preprocessing import PolynomialFeatures\n",
    "import numpy as np\n",
    "import pandas as pd\n",
    "\n",
    "# Standardize the data\n",
    "scaler = StandardScaler()\n",
    "X_train_std = scaler.fit_transform(X_train)\n",
    "X_test_std = scaler.transform(X_test)\n",
    "\n",
    "degrees = [1, 2, 3, 4, 5]\n",
    "results = []\n",
    "\n",
    "for d in degrees:\n",
    "    poly = PolynomialFeatures(degree=d)\n",
    "    X_train_poly = poly.fit_transform(X_train_std)\n",
    "    \n",
    "    # Split into training and validation sets\n",
    "    X_train_split, X_valid_split, y_train_split, y_valid_split = train_test_split(\n",
    "        X_train_poly, y_train, test_size=0.3, random_state=0)\n",
    "\n",
    "    alphas = [1, 10, 100, 1000, 10000]\n",
    "    for alpha in alphas:\n",
    "        ridge_clf = RidgeClassifier(alpha=alpha)\n",
    "        ridge_clf.fit(X_train_split, y_train_split.values.ravel())\n",
    "        \n",
    "        # Predict\n",
    "        y_train_pred_ridge = ridge_clf.predict(X_train_split)\n",
    "        y_valid_pred_ridge = ridge_clf.predict(X_valid_split)\n",
    "        \n",
    "        # Accuracy score\n",
    "        acc_train_ridge = accuracy_score(y_train_split, y_train_pred_ridge)\n",
    "        acc_valid_ridge = accuracy_score(y_valid_split, y_valid_pred_ridge)\n",
    "        \n",
    "        # Store RidgeClassifier results\n",
    "        results.append({\n",
    "            'model': 'RidgeClassifier',\n",
    "            'degree': d,\n",
    "            'alpha': alpha,\n",
    "            'acc_train': acc_train_ridge,\n",
    "            'acc_valid': acc_valid_ridge\n",
    "        })\n",
    "\n",
    "# Convert results to a DataFrame\n",
    "results_df = pd.DataFrame(results)\n",
    "print(results_df)"
   ]
  },
  {
   "cell_type": "markdown",
   "metadata": {},
   "source": [
    "## 2. Select 1 setting (model + hyperparameters) and plot the error curve to show that the setting you selected isn't over-fit.\n",
    "In this code, I identified the best model by selecting the one with the highest validation accuracy from the results. I printed the corresponding degree and alpha values, along with the training and validation accuracy scores for the best model. Then, I plotted the training and validation accuracy curves for the selected model and hyperparameters across different polynomial degrees. The plot illustrates that the selected model is not overfitted, as the training and validation accuracies remain close to each other, indicating good generalization performance."
   ]
  },
  {
   "cell_type": "code",
   "execution_count": 128,
   "metadata": {},
   "outputs": [
    {
     "name": "stdout",
     "output_type": "stream",
     "text": [
      "Best model parameters:\n",
      "Model:  RidgeClassifier\n",
      "Degree:  2\n",
      "Alpha:  1\n",
      "Training Accuracy:  0.6176926280716368\n",
      "Validation Accuracy:  0.6149420819404493\n"
     ]
    },
    {
     "data": {
      "image/png": "[encoded data removed]",
      "text/plain": [
       "<Figure size 720x432 with 1 Axes>"
      ]
     },
     "metadata": {
      "needs_background": "light"
     },
     "output_type": "display_data"
    }
   ],
   "source": [
    "import matplotlib.pyplot as plt\n",
    "\n",
    "# Find the model with the highest validation accuracy\n",
    "best_model = results_df.loc[results_df['acc_valid'].idxmax()]\n",
    "\n",
    "# Its info\n",
    "print(\"Best model parameters:\")\n",
    "print(\"Model: \", best_model['model'])\n",
    "print(\"Degree: \", best_model['degree'])\n",
    "print(\"Alpha: \", best_model['alpha'])\n",
    "print(\"Training Accuracy: \", best_model['acc_train'])\n",
    "print(\"Validation Accuracy: \", best_model['acc_valid'])\n",
    "\n",
    "best_model_type, best_alpha = best_model['model'], best_model['alpha']\n",
    "\n",
    "# Select the results for the best alpha and model type\n",
    "df_best_alpha_model = results_df[(results_df['alpha'] == best_alpha) & (results_df['model'] == best_model_type)]\n",
    "\n",
    "# Plot the accuracy curves\n",
    "fig, ax = plt.subplots(figsize=(10, 6))\n",
    "\n",
    "ax.plot(df_best_alpha_model['degree'], df_best_alpha_model['acc_train'], \n",
    "        label=f'Training accuracy ({best_model_type}, alpha={best_alpha})', marker='o')\n",
    "ax.plot(df_best_alpha_model['degree'], df_best_alpha_model['acc_valid'], \n",
    "        label=f'Validation accuracy ({best_model_type}, alpha={best_alpha})', marker='s', linestyle='--')\n",
    "\n",
    "ax.set_xlabel('Polynomial Degree')\n",
    "ax.set_ylabel('Accuracy Score')\n",
    "ax.set_title(f'Training and Validation Accuracy for Best {best_model_type} Model (alpha={best_alpha})')\n",
    "ax.legend(loc='best')\n",
    "plt.tight_layout()\n",
    "plt.show()"
   ]
  },
  {
   "cell_type": "markdown",
   "metadata": {},
   "source": [
    "## 3. Use any method to choose the best 3 features that can best aid the model's prediction.\n",
    "To select the best 3 features, I expanded the polynomial features and trained a RidgeClassifier model with the optimal hyperparameters. I used SelectFromModel to automatically identify important features based on the coefficients of the model. The features with coefficients above the mean threshold were selected. Finally, I printed the top 10 features based on the absolute values of their coefficients, and I manually chose the 3 most important features (SHOT_DIST, CLOSE_DEF_DIST, TOUCH_TIME) from this set. And the 3 features satisfy the constraint that combination of features doesn't count as 1 feature."
   ]
  },
  {
   "cell_type": "code",
   "execution_count": 129,
   "metadata": {},
   "outputs": [
    {
     "name": "stdout",
     "output_type": "stream",
     "text": [
      "\n",
      "Top 10 selected features based on coefficients:\n",
      "SHOT_DIST                   0.325977\n",
      "CLOSE_DEF_DIST              0.196050\n",
      "SHOT_DIST^2                 0.164239\n",
      "SHOT_DIST PTS_TYPE          0.131152\n",
      "SHOT_DIST CLOSE_DEF_DIST    0.108730\n",
      "TOUCH_TIME                  0.065680\n",
      "PTS_TYPE^2                  0.051484\n",
      "PTS_TYPE                    0.046545\n",
      "SHOT_CLOCK DRIBBLES         0.045977\n",
      "TOUCH_TIME SHOT_DIST        0.042993\n",
      "dtype: float64\n"
     ]
    }
   ],
   "source": [
    "from sklearn.linear_model import RidgeClassifier\n",
    "from sklearn.feature_selection import SelectFromModel\n",
    "import pandas as pd\n",
    "import numpy as np\n",
    "\n",
    "best_degree = int(best_model['degree'])\n",
    "best_alpha = int(best_model['alpha'])\n",
    "\n",
    "poly = PolynomialFeatures(degree=best_degree)\n",
    "X_train_poly = poly.fit_transform(X_train_std)\n",
    "X_test_poly = poly.fit_transform(X_test_std)\n",
    "\n",
    "model = RidgeClassifier(alpha=best_alpha)\n",
    "model.fit(X_train_poly, y_train.values.ravel())\n",
    "\n",
    "# Use SelectFromModel to automatically select important features\n",
    "selector = SelectFromModel(model, prefit=True, threshold='mean')\n",
    "X_train_selected = selector.transform(X_train_poly)\n",
    "\n",
    "# Find the names of the selected features\n",
    "selected_features = poly.get_feature_names_out(X_train.columns)[selector.get_support()]\n",
    "\n",
    "# Select the top 10 most important features based on coefficients\n",
    "top_features = pd.Series(model.coef_.flatten(), index=poly.get_feature_names_out(X_train.columns)).abs().sort_values(ascending=False).head(10)\n",
    "print(\"\\nTop 10 selected features based on coefficients:\")\n",
    "print(top_features)"
   ]
  },
  {
   "cell_type": "markdown",
   "metadata": {},
   "source": [
    "## 4. Train the model selected in 2. with the only 3 features selected in 3., and present the training error.\n",
    "In this step, I retrained the model selected in step 2 using only the 3 features chosen in step 3. Then, I printed the training accuracy to evaluate the model’s performance on the training set. The accuracy score reflects the model’s ability to correctly classify the data with the selected features."
   ]
  },
  {
   "cell_type": "code",
   "execution_count": 130,
   "metadata": {},
   "outputs": [
    {
     "name": "stdout",
     "output_type": "stream",
     "text": [
      "\n",
      "Training accuracy with SHOT_DIST, CLOSE_DEF_DIST, and DRIBBLES TOUCH_TIME: 0.60\n"
     ]
    }
   ],
   "source": [
    "from sklearn.metrics import accuracy_score\n",
    "\n",
    "# Desired features\n",
    "desired_features = ['SHOT_DIST', 'CLOSE_DEF_DIST', 'TOUCH_TIME']\n",
    "top_feature_indices = [i for i, feature in enumerate(poly.get_feature_names_out(X_train.columns)) if feature in desired_features]\n",
    "\n",
    "# Train the model using only the selected 3 features\n",
    "X_train_top = X_train_poly[:, top_feature_indices]\n",
    "X_test_top = X_test_poly[:, top_feature_indices]\n",
    "\n",
    "# Retrain the model\n",
    "model_top = RidgeClassifier(alpha=best_alpha)\n",
    "model_top.fit(X_train_top, y_train.values.ravel())\n",
    "\n",
    "# Predict\n",
    "y_train_pred_top = model_top.predict(X_train_top)\n",
    "\n",
    "# Accuracy score\n",
    "train_accuracy_top = accuracy_score(y_train, y_train_pred_top)\n",
    "\n",
    "print(f\"\\nTraining accuracy with SHOT_DIST, CLOSE_DEF_DIST, and DRIBBLES TOUCH_TIME: {train_accuracy_top:.2f}\")"
   ]
  },
  {
   "cell_type": "markdown",
   "metadata": {},
   "source": [
    "## 5. Export the predictions of the model trained in 4. for X_test (follow the format of y_train.csv).\n",
    "In this step, I exported the predictions from the model trained in step 4 using the 3 selected features for the test set."
   ]
  },
  {
   "cell_type": "code",
   "execution_count": 131,
   "metadata": {},
   "outputs": [
    {
     "name": "stdout",
     "output_type": "stream",
     "text": [
      "\n",
      "Prediction results have been saved to 'Lab05_111062117_y_pred.csv'.\n"
     ]
    }
   ],
   "source": [
    "y_test_pred_top = model_top.predict(X_test_top)\n",
    "\n",
    "# Create the submission file format\n",
    "submission = pd.DataFrame({\n",
    "    'FGM': y_test_pred_top\n",
    "})\n",
    "\n",
    "# Save the results as a CSV file\n",
    "submission.to_csv('Lab05_111062117_y_pred.csv', index=False)\n",
    "\n",
    "print(\"\\nPrediction results have been saved to 'Lab05_111062117_y_pred.csv'.\")"
   ]
  },
  {
   "cell_type": "markdown",
   "metadata": {},
   "source": [
    "## 6. A brief report of what you have done in this assignment.\n",
    "In this assignment, I used RidgeClassifier to train a model using all features with different polynomial degrees and alpha values. The goal was to find the optimal hyperparameters and degree. I selected the best model based on the highest validation accuracy.\n",
    "\n",
    "Next, I chose the 3 most important features (SHOT_DIST, CLOSE_DEF_DIST, and TOUCH_TIME) and retrained the model using only these features. I evaluated the performance of this reduced feature set by calculating the accuracy.\n",
    "\n",
    "Finally, I exported the predictions of the retrained model for the test set as a CSV file."
   ]
  }
 ],
 "metadata": {
  "kernelspec": {
   "display_name": "tensorflow",
   "language": "python",
   "name": "python3"
  },
  "language_info": {
   "codemirror_mode": {
    "name": "ipython",
    "version": 3
   },
   "file_extension": ".py",
   "mimetype": "text/x-python",
   "name": "python",
   "nbconvert_exporter": "python",
   "pygments_lexer": "ipython3",
   "version": "3.8.18"
  }
 },
 "nbformat": 4,
 "nbformat_minor": 2
}
